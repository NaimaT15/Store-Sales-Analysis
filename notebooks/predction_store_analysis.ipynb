{
 "cells": [
  {
   "cell_type": "code",
   "execution_count": 1,
   "metadata": {},
   "outputs": [],
   "source": [
    "import pandas as pd\n",
    "import sys\n",
    "import os\n",
    "\n",
    "# Add the scripts directory to the Python path\n",
    "sys.path.append(os.path.abspath('../scripts'))"
   ]
  },
  {
   "cell_type": "code",
   "execution_count": 2,
   "metadata": {},
   "outputs": [
    {
     "name": "stdout",
     "output_type": "stream",
     "text": [
      "Processed Train Data Sample:\n",
      "   Store  DayOfWeek       Date  Sales  Customers  Open  Promo  StateHoliday  \\\n",
      "0      1          4 2015-07-31   5263        555     1      1             0   \n",
      "1      2          4 2015-07-31   6064        625     1      1             0   \n",
      "2      3          4 2015-07-31   8314        821     1      1             0   \n",
      "3      4          4 2015-07-31  13995       1498     1      1             0   \n",
      "4      5          4 2015-07-31   4822        559     1      1             0   \n",
      "\n",
      "   SchoolHoliday StoreType  ... CompetitionOpenSinceYear  Promo2  \\\n",
      "0              1         c  ...                 0.681904       0   \n",
      "1              1         a  ...                 0.680835       1   \n",
      "2              1         a  ...                 0.679765       1   \n",
      "3              1         c  ...                 0.682973       0   \n",
      "4              1         a  ...                 0.689387       0   \n",
      "\n",
      "   Promo2SinceWeek  Promo2SinceYear    PromoInterval      Year     Month  \\\n",
      "0        -0.760097        -1.001128             None  1.502077  0.346724   \n",
      "1         0.088250         0.997130  Jan,Apr,Jul,Oct  1.502077  0.346724   \n",
      "2         0.153507         0.998124  Jan,Apr,Jul,Oct  1.502077  0.346724   \n",
      "3        -0.760097        -1.001128             None  1.502077  0.346724   \n",
      "4        -0.760097        -1.001128             None  1.502077  0.346724   \n",
      "\n",
      "        Day  WeekOfYear  IsWeekend  \n",
      "0  1.740766    0.511626          0  \n",
      "1  1.740766    0.511626          0  \n",
      "2  1.740766    0.511626          0  \n",
      "3  1.740766    0.511626          0  \n",
      "4  1.740766    0.511626          0  \n",
      "\n",
      "[5 rows x 23 columns]\n",
      "Processed Test Data Sample:\n",
      "   Id  Store  DayOfWeek       Date  Open  Promo  StateHoliday  SchoolHoliday  \\\n",
      "0   1      1          3 2015-09-17   1.0      1             0              0   \n",
      "1   2      3          3 2015-09-17   1.0      1             0              0   \n",
      "2   3      7          3 2015-09-17   1.0      1             0              0   \n",
      "3   4      8          3 2015-09-17   1.0      1             0              0   \n",
      "4   5      9          3 2015-09-17   1.0      1             0              0   \n",
      "\n",
      "  StoreType Assortment  ...  CompetitionOpenSinceYear  Promo2  \\\n",
      "0         c          a  ...                  0.681904       0   \n",
      "1         a          a  ...                  0.679765       1   \n",
      "2         a          c  ...                  0.687249       0   \n",
      "3         a          a  ...                  0.688318       0   \n",
      "4         a          c  ...                  0.673351       0   \n",
      "\n",
      "   Promo2SinceWeek  Promo2SinceYear    PromoInterval      Year    Month  \\\n",
      "0              NaN              NaN              NaN  1.502077  0.94803   \n",
      "1         0.153507         0.998124  Jan,Apr,Jul,Oct  1.502077  0.94803   \n",
      "2              NaN              NaN              NaN  1.502077  0.94803   \n",
      "3              NaN              NaN              NaN  1.502077  0.94803   \n",
      "4              NaN              NaN              NaN  1.502077  0.94803   \n",
      "\n",
      "        Day  WeekOfYear  IsWeekend  \n",
      "0  0.147618    0.996613          0  \n",
      "1  0.147618    0.996613          0  \n",
      "2  0.147618    0.996613          0  \n",
      "3  0.147618    0.996613          0  \n",
      "4  0.147618    0.996613          0  \n",
      "\n",
      "[5 rows x 22 columns]\n"
     ]
    }
   ],
   "source": [
    "# Assuming you saved the script as data_processing_script.py in the same directory\n",
    "from predction_store_analysis import main\n",
    "\n",
    "# Call the main function to process the data and display the results in the notebook\n",
    "main()\n"
   ]
  }
 ],
 "metadata": {
  "kernelspec": {
   "display_name": "venv",
   "language": "python",
   "name": "python3"
  },
  "language_info": {
   "codemirror_mode": {
    "name": "ipython",
    "version": 3
   },
   "file_extension": ".py",
   "mimetype": "text/x-python",
   "name": "python",
   "nbconvert_exporter": "python",
   "pygments_lexer": "ipython3",
   "version": "3.11.9"
  }
 },
 "nbformat": 4,
 "nbformat_minor": 2
}
